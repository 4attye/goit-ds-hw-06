{
 "cells": [
  {
   "cell_type": "code",
   "execution_count": 129,
   "id": "08c97582-4f0e-4376-9b40-b52356595c4a",
   "metadata": {},
   "outputs": [],
   "source": [
    "import numpy as np\n",
    "import pandas as pd\n",
    "from sklearn.linear_model import LinearRegression"
   ]
  },
  {
   "cell_type": "code",
   "execution_count": 130,
   "id": "0e27b59a-5222-4583-8b5a-5af155ec1778",
   "metadata": {},
   "outputs": [],
   "source": [
    "data = pd.read_csv(\"Housing.csv\")"
   ]
  },
  {
   "cell_type": "code",
   "execution_count": 131,
   "id": "36dfbf86-e384-43d2-8416-a820a27e2e26",
   "metadata": {},
   "outputs": [],
   "source": [
    "X = data[['area', 'bedrooms', 'bathrooms']].values\n",
    "y = data['price'].values"
   ]
  },
  {
   "cell_type": "code",
   "execution_count": 132,
   "id": "218b2668-014c-44f0-871c-c9cbf2c425d1",
   "metadata": {},
   "outputs": [],
   "source": [
    "def hypothesis(X, w):\n",
    "    return np.dot(X, w)"
   ]
  },
  {
   "cell_type": "code",
   "execution_count": 133,
   "id": "5fd4f8d9-24e5-496e-b006-74702394855d",
   "metadata": {},
   "outputs": [],
   "source": [
    "def mse(y_true, y_pred):\n",
    "    result = np.mean((y_true - y_pred) ** 2)\n",
    "    return result"
   ]
  },
  {
   "cell_type": "code",
   "execution_count": 134,
   "id": "b167059b-9308-4197-9006-d418652311f5",
   "metadata": {},
   "outputs": [],
   "source": [
    "# def gradient_step(X, y, w, lr):\n",
    "#     y_pred = hypothesis(X, w)\n",
    "#     error = y_pred - y\n",
    "#     gradient = (1 / len(y)) * np.dot(X.T, error)\n",
    "#     w -= lr * gradient\n",
    "#     return w\n",
    "\n",
    "def gradient_step(X_b, y, w, lr):\n",
    "    n = len(y)\n",
    "    gradients = -2/n * X_b.T.dot(y - X_b.dot(w))\n",
    "    w -= lr * gradients\n",
    "    return w"
   ]
  },
  {
   "cell_type": "code",
   "execution_count": 135,
   "id": "08333548-cac5-450c-b1b7-ae4d0786de15",
   "metadata": {},
   "outputs": [],
   "source": [
    "# def linear_regression(X, y, iterations=1000, lr=0.001):\n",
    "   \n",
    "#     w = np.zeros(X.shape[1])\n",
    "\n",
    "#     for i in range(iterations):\n",
    "#         w = gradient_step(X, y, w, lr)\n",
    "#     return w\n",
    "\n",
    "def linear_regression(X, y, iterations=1000, lr=0.001):\n",
    "    \n",
    "    X_b = np.c_[np.ones((X.shape[0], 1)), X]\n",
    "    w = np.zeros(X_b.shape[1])\n",
    "\n",
    "    for i in range(iterations):\n",
    "        w = gradient_step(X_b, y, w, lr)\n",
    "\n",
    "    intercept = w[0]\n",
    "    weights = w[1:]\n",
    "\n",
    "    return intercept, weights"
   ]
  },
  {
   "cell_type": "code",
   "execution_count": 136,
   "id": "4195d8bf-cc5d-4344-a7ae-7843d25e4dbd",
   "metadata": {},
   "outputs": [],
   "source": [
    "def analytical_solution(X, y):\n",
    "    return np.linalg.inv(X.T.dot(X)).dot(X.T).dot(y)"
   ]
  },
  {
   "cell_type": "code",
   "execution_count": 137,
   "id": "a58996f2-0833-4436-b62a-4917d639b41b",
   "metadata": {},
   "outputs": [],
   "source": [
    "def sklearn_regression(X, y):\n",
    "    model = LinearRegression()\n",
    "    model.fit(X, y)\n",
    "    return model.coef_, model.intercept_"
   ]
  },
  {
   "cell_type": "code",
   "execution_count": 166,
   "id": "37161de0-bbd4-4b66-af77-955802e82833",
   "metadata": {},
   "outputs": [
    {
     "name": "stdout",
     "output_type": "stream",
     "text": [
      "Градієнтний спуск: [0.4394435  0.16069884 0.37218555], intercept: 3.0087818067799504e-16\n",
      "Аналітичне рішення: [0.43945209 0.16052866 0.37234442]\n",
      "scikit-learn: [0.43945209 0.16052866 0.37234442], intercept: 3.163612015992004e-16\n"
     ]
    }
   ],
   "source": [
    "X_mean = np.mean(X, axis=0)\n",
    "X_std = np.std(X, axis=0)\n",
    "X_norm = (X - X_mean) / X_std\n",
    "\n",
    "y_mean = np.mean(y)\n",
    "y_std = np.std(y)\n",
    "y_norm = (y - y_mean) / y_std\n",
    "\n",
    "# Градієнтний спуск\n",
    "intercept, weights = linear_regression(X_norm, y_norm, iterations=5000, lr=0.001)\n",
    "\n",
    "# Аналітичне рішення\n",
    "weights_analytic = analytical_solution(X_norm, y_norm)\n",
    "\n",
    "# scikit-learn\n",
    "weights_sklearn, intercept_sklearn = sklearn_regression(X_norm, y_norm)\n",
    "\n",
    "print(f'Градієнтний спуск: {weights}, intercept: {intercept}')\n",
    "print(f'Аналітичне рішення: {weights_analytic}')\n",
    "print(f'scikit-learn: {weights_sklearn}, intercept: {intercept_sklearn}')"
   ]
  },
  {
   "cell_type": "code",
   "execution_count": 139,
   "id": "948ad621-e6ea-4bf9-9e49-2fe2addb3c78",
   "metadata": {},
   "outputs": [],
   "source": [
    "def predict_price(new_data, intercept, weights, X_mean, X_std, y_mean, y_std):\n",
    "    \n",
    "    new_data_normalized = (new_data - X_mean) / X_std\n",
    "    \n",
    "    predicted_price_normalized = intercept + np.dot(new_data_normalized, weights)\n",
    "    \n",
    "    predicted_price = predicted_price_normalized * y_std + y_mean\n",
    "    \n",
    "    return predicted_price"
   ]
  },
  {
   "cell_type": "code",
   "execution_count": 182,
   "id": "73462f0b-cdd3-49e9-9d98-185360022e10",
   "metadata": {},
   "outputs": [
    {
     "name": "stdout",
     "output_type": "stream",
     "text": [
      "Прогнозована ціна будинку: $10,390,833.96\n"
     ]
    }
   ],
   "source": [
    "new_house = np.array([8960, 4, 4])\n",
    "\n",
    "predicted_price = predict_price(new_house, intercept, weights, X_mean, X_std, y_mean, y_std)\n",
    "print(f\"Прогнозована ціна будинку: ${predicted_price:,.2f}\")"
   ]
  }
 ],
 "metadata": {
  "kernelspec": {
   "display_name": "Python 3 (ipykernel)",
   "language": "python",
   "name": "python3"
  },
  "language_info": {
   "codemirror_mode": {
    "name": "ipython",
    "version": 3
   },
   "file_extension": ".py",
   "mimetype": "text/x-python",
   "name": "python",
   "nbconvert_exporter": "python",
   "pygments_lexer": "ipython3",
   "version": "3.12.4"
  }
 },
 "nbformat": 4,
 "nbformat_minor": 5
}
