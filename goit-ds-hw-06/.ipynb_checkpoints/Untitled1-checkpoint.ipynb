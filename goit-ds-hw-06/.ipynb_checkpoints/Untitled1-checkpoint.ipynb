{
 "cells": [
  {
   "cell_type": "code",
   "execution_count": 3,
   "id": "b727b4d2-9093-4703-a108-713e9c213fee",
   "metadata": {},
   "outputs": [
    {
     "name": "stdout",
     "output_type": "stream",
     "text": [
      "[16.  8. 13. 10.]\n"
     ]
    }
   ],
   "source": [
    "import numpy as np\n",
    "from sklearn.linear_model import LinearRegression\n",
    "\n",
    "X = np.array([\n",
    "    [1, 1],\n",
    "    [1, 2],\n",
    "    [2, 2],\n",
    "    [2, 3]\n",
    "])\n",
    "\n",
    "y = np.dot(X, np.array([1, 2])) + 3\n",
    "\n",
    "regressor = LinearRegression().fit(X, y)\n",
    "\n",
    "print(regressor.predict(np.array([[3, 5],\n",
    "                                 [1, 2],\n",
    "                                 [2, 4],\n",
    "                                 [1, 3]])))"
   ]
  },
  {
   "cell_type": "code",
   "execution_count": null,
   "id": "8f99d59d-eafc-4b02-a7cd-50fad544a36b",
   "metadata": {},
   "outputs": [],
   "source": []
  },
  {
   "cell_type": "code",
   "execution_count": 5,
   "id": "6c2ab154-e868-4070-a01e-dcb9103bbca9",
   "metadata": {},
   "outputs": [],
   "source": [
    "def hypothesis(X, w):\n",
    "    return np.dot(X, w)"
   ]
  },
  {
   "cell_type": "code",
   "execution_count": 15,
   "id": "5a5b59e1-138e-4df3-9b9c-98baf36c7f0e",
   "metadata": {},
   "outputs": [],
   "source": [
    "def cost_function(X, y, w):\n",
    "    m = len(y)\n",
    "    predictions = hypothesis(X, w)\n",
    "    errors = predictions - y\n",
    "    return (1/(2*m)) * np.sum(errors**2)"
   ]
  },
  {
   "cell_type": "code",
   "execution_count": 17,
   "id": "63e6f9e1-408b-4470-a451-3cea0df71bc6",
   "metadata": {},
   "outputs": [],
   "source": [
    "def gradient_descent_step(X, y, w, learning_rate):\n",
    "    m = len(y)\n",
    "    predictions = hypothesis(X, w)\n",
    "    errors = predictions - y\n",
    "    gradient = (1/m) *  np.dot(X.T, errors)\n",
    "    return w - learning_rate * gradient"
   ]
  },
  {
   "cell_type": "code",
   "execution_count": 19,
   "id": "fc3430f3-2f7d-40f8-b5f0-ef57792bb1b8",
   "metadata": {},
   "outputs": [],
   "source": [
    "def linear_regression(X, y, learning_rate, iterations):\n",
    "    w = np.zeros(X.shape[1])\n",
    "\n",
    "    for i in range(iterations):\n",
    "        w = gradient_descent_step(X, y, w, learning_rate)\n",
    "        cost = compute_cost(X, y, w)\n",
    "        \n",
    "    return w"
   ]
  },
  {
   "cell_type": "code",
   "execution_count": 21,
   "id": "12ade5bc-37ac-49c1-906f-45b2cd551d15",
   "metadata": {},
   "outputs": [],
   "source": [
    "def normal_equation(X, y):\n",
    "    return np.linalg.inv(X.T.dot(X)).dot(X.T).dot(y)"
   ]
  },
  {
   "cell_type": "code",
   "execution_count": 23,
   "id": "ee120f94-ff61-4df4-9f98-8248ec2b8647",
   "metadata": {},
   "outputs": [],
   "source": [
    "def sklearn_regression(X, y):\n",
    "    model = LinearRegression()\n",
    "    model.fit(X, y)\n",
    "    return model.coef_, model.intercept_"
   ]
  },
  {
   "cell_type": "code",
   "execution_count": null,
   "id": "1bcd93e6-3cf6-4aba-af21-01bdb0e22165",
   "metadata": {},
   "outputs": [],
   "source": []
  }
 ],
 "metadata": {
  "kernelspec": {
   "display_name": "Python 3 (ipykernel)",
   "language": "python",
   "name": "python3"
  },
  "language_info": {
   "codemirror_mode": {
    "name": "ipython",
    "version": 3
   },
   "file_extension": ".py",
   "mimetype": "text/x-python",
   "name": "python",
   "nbconvert_exporter": "python",
   "pygments_lexer": "ipython3",
   "version": "3.12.4"
  }
 },
 "nbformat": 4,
 "nbformat_minor": 5
}
